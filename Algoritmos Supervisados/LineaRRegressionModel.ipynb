## Problema:

Tenemos que predecir el porcentaje de notas que un estudiante tendrá en base a las horas que ha estudiado. Queremos saber qué nota sacará un alumno que estudie: 6 horas y media, 8 horas y 10 minutos y 9 horas. Para ello usaremos un modelo de regresión lineal.
Obtendremos los datos de: https://www.kaggle.com/datasets/peterkmutua/student-hours-scores
